{
 "cells": [
  {
   "cell_type": "markdown",
   "id": "d3a065be",
   "metadata": {},
   "source": [
    "# Assignment 5 \n",
    "\n",
    "## Grade: /100 pts\n",
    "\n",
    "This notebook contains the questions for Assignment 5. \n",
    "\n",
    "Please note, a random seed has been set (42) to ensure the reproducibility of the results -- *DO NOT* change this random seed. **If you call additional functions that are based on random number generators, you will need to define their seed to 42 as well**. \n",
    "\n",
    "Make sure to complete this assignment individually and appropriately reference all external code and documentation used. ***In order for your submission to be valid, you must adhere to the function definitions which have been made (failure to do so will result in a grade of 0). You must upload this completed Jupyter Notebook file as your submission (other file types are not permitted and will result in a grade of 0).*** You are responsible for selecting and importing additional packages."
   ]
  },
  {
   "cell_type": "code",
   "execution_count": 192,
   "id": "3b788c1c",
   "metadata": {
    "execution": {
     "iopub.execute_input": "2022-09-03T12:35:20.192519Z",
     "iopub.status.busy": "2022-09-03T12:35:20.191882Z",
     "iopub.status.idle": "2022-09-03T12:35:21.884201Z",
     "shell.execute_reply": "2022-09-03T12:35:21.882674Z"
    },
    "papermill": {
     "duration": 1.703844,
     "end_time": "2022-09-03T12:35:21.887338",
     "exception": false,
     "start_time": "2022-09-03T12:35:20.183494",
     "status": "completed"
    },
    "tags": []
   },
   "outputs": [],
   "source": [
    "import pandas as pd\n",
    "import numpy as np\n",
    "import matplotlib.pyplot as plt\n",
    "from sklearn.decomposition import PCA\n",
    "from sklearn.model_selection import train_test_split\n",
    "from sklearn.linear_model import LogisticRegression\n",
    "from sklearn.metrics import accuracy_score, recall_score\n",
    "from sklearn.preprocessing import StandardScaler, LabelEncoder\n",
    "import time\n",
    "%matplotlib inline"
   ]
  },
  {
   "cell_type": "markdown",
   "id": "0f4db3bc",
   "metadata": {
    "papermill": {
     "duration": 0.006412,
     "end_time": "2022-09-03T12:35:21.900465",
     "exception": false,
     "start_time": "2022-09-03T12:35:21.894053",
     "status": "completed"
    },
    "tags": []
   },
   "source": [
    "## Q1: Data loading and Preprocessing (20 pts)\n",
    "\n",
    "In this assignment we use a dataset (`data.csv`) to diagnose breast cancer as malignant (`M`) or benign (`B`):\n",
    "\n",
    "- Load the dataset and show the first 5 rows\n",
    "- Remove `id` from the dataframe\n",
    "- Remove rows with any null values\n",
    "- Seperate the target variable `diagnosis` and feature matrix.\n",
    "* Use label encoder to make the labels numerical (0 and 1 instead of `B` and `M`).\n",
    "* Split the data and set aside 10 percent of data for testing.\n",
    "* Print the size of training and test sets."
   ]
  },
  {
   "cell_type": "code",
   "execution_count": null,
   "id": "0a050109",
   "metadata": {
    "execution": {
     "iopub.execute_input": "2022-09-03T12:35:21.915773Z",
     "iopub.status.busy": "2022-09-03T12:35:21.915367Z",
     "iopub.status.idle": "2022-09-03T12:35:21.942476Z",
     "shell.execute_reply": "2022-09-03T12:35:21.941199Z"
    },
    "papermill": {
     "duration": 0.038246,
     "end_time": "2022-09-03T12:35:21.945437",
     "exception": false,
     "start_time": "2022-09-03T12:35:21.907191",
     "status": "completed"
    },
    "tags": []
   },
   "outputs": [],
   "source": []
  },
  {
   "cell_type": "markdown",
   "id": "0b1eecb5",
   "metadata": {
    "execution": {
     "iopub.execute_input": "2022-09-03T12:35:23.371070Z",
     "iopub.status.busy": "2022-09-03T12:35:23.369955Z",
     "iopub.status.idle": "2022-09-03T12:35:23.379931Z",
     "shell.execute_reply": "2022-09-03T12:35:23.379038Z"
    },
    "papermill": {
     "duration": 0.021559,
     "end_time": "2022-09-03T12:35:23.382639",
     "exception": false,
     "start_time": "2022-09-03T12:35:23.361080",
     "status": "completed"
    },
    "tags": []
   },
   "source": [
    "## Q2: Effect of normalization (15 pts)\n",
    "\n",
    "In order to properly build ML models, the features need to be standardized so that no feature can dominate others in determining the prediction values due to differences in feature scales. \n",
    "\n",
    "* Standarize training and test sets and plot the `area_mean` feature before and after the standardization. \n",
    "\n",
    "* **Written Answer:** Make observations about the plot.  "
   ]
  },
  {
   "cell_type": "code",
   "execution_count": null,
   "id": "7129a8ff",
   "metadata": {},
   "outputs": [],
   "source": []
  },
  {
   "cell_type": "markdown",
   "id": "45bdb45e",
   "metadata": {},
   "source": [
    "**Written Answer:**"
   ]
  },
  {
   "cell_type": "markdown",
   "id": "0b1fca56",
   "metadata": {},
   "source": [
    "## Q3: Classification model1 (15 pts)\n",
    "\n",
    "* Fit a logistic regression model (model1) to the normalized training data and report the training time.\n",
    "* Report the accuracy and recall for model1's predictions. "
   ]
  },
  {
   "cell_type": "code",
   "execution_count": null,
   "id": "b4000b09",
   "metadata": {},
   "outputs": [],
   "source": []
  },
  {
   "cell_type": "markdown",
   "id": "74ac3250",
   "metadata": {},
   "source": [
    "## Q4: PCA (15 pts)\n",
    "\n",
    "In this task:\n",
    "\n",
    "- Use the normalized training data and plot the explained variance ratio for the data.\n",
    "- **Written Answer** Use that plot to choose the proper number of principal components (PCs) which can explain at least 70% of the total variance in the training data. Report the number of your choice and explain how you have chosen that number?"
   ]
  },
  {
   "cell_type": "code",
   "execution_count": null,
   "id": "26cf5516",
   "metadata": {},
   "outputs": [],
   "source": []
  },
  {
   "cell_type": "markdown",
   "id": "c0e07182",
   "metadata": {
    "execution": {
     "iopub.execute_input": "2022-09-03T12:35:23.401959Z",
     "iopub.status.busy": "2022-09-03T12:35:23.401556Z",
     "iopub.status.idle": "2022-09-03T12:35:23.433903Z",
     "shell.execute_reply": "2022-09-03T12:35:23.431900Z"
    },
    "papermill": {
     "duration": 0.047337,
     "end_time": "2022-09-03T12:35:23.438399",
     "exception": false,
     "start_time": "2022-09-03T12:35:23.391062",
     "status": "completed"
    },
    "tags": []
   },
   "source": [
    "**Written Answer:**"
   ]
  },
  {
   "cell_type": "markdown",
   "id": "5f831097",
   "metadata": {
    "execution": {
     "iopub.execute_input": "2022-09-03T12:35:23.561164Z",
     "iopub.status.busy": "2022-09-03T12:35:23.560724Z",
     "iopub.status.idle": "2022-09-03T12:35:23.567648Z",
     "shell.execute_reply": "2022-09-03T12:35:23.566698Z"
    },
    "papermill": {
     "duration": 0.018708,
     "end_time": "2022-09-03T12:35:23.569942",
     "exception": false,
     "start_time": "2022-09-03T12:35:23.551234",
     "status": "completed"
    },
    "tags": []
   },
   "source": [
    "## Q5: Dimensionality Reduction (15 pts)\n",
    "\n",
    "* Project the scaled training data using PCA with the dimension of 2. \n",
    "* Plot the projected training dataponts on the PCs and show different labels with two different colors. "
   ]
  },
  {
   "cell_type": "code",
   "execution_count": null,
   "id": "bcb04612",
   "metadata": {
    "execution": {
     "iopub.execute_input": "2022-09-03T12:35:24.310312Z",
     "iopub.status.busy": "2022-09-03T12:35:24.309264Z",
     "iopub.status.idle": "2022-09-03T12:35:24.335686Z",
     "shell.execute_reply": "2022-09-03T12:35:24.333892Z"
    },
    "papermill": {
     "duration": 0.039772,
     "end_time": "2022-09-03T12:35:24.338857",
     "exception": false,
     "start_time": "2022-09-03T12:35:24.299085",
     "status": "completed"
    },
    "tags": []
   },
   "outputs": [],
   "source": []
  },
  {
   "cell_type": "markdown",
   "id": "070fb130",
   "metadata": {},
   "source": [
    "## Q6: Classification model2 (on compressed data) (20 pts)\n",
    "\n",
    "* Fit a new logistic regression model (model2) and fit it to the compressed training data from Q5 and report the training time.\n",
    "* Project the normalized test set using PCA model you created in Q5 and report the accuracy and recall for model2's prediction. \n",
    "* **Written Answer** compare two models (model1 and model2) in terms of training time and prediction results. What do you conclude?"
   ]
  },
  {
   "cell_type": "code",
   "execution_count": null,
   "id": "479991f1",
   "metadata": {
    "execution": {
     "iopub.execute_input": "2022-09-03T12:35:24.383401Z",
     "iopub.status.busy": "2022-09-03T12:35:24.382698Z",
     "iopub.status.idle": "2022-09-03T12:35:24.704541Z",
     "shell.execute_reply": "2022-09-03T12:35:24.703327Z"
    },
    "papermill": {
     "duration": 0.348258,
     "end_time": "2022-09-03T12:35:24.707220",
     "exception": false,
     "start_time": "2022-09-03T12:35:24.358962",
     "status": "completed"
    },
    "tags": []
   },
   "outputs": [],
   "source": []
  }
 ],
 "metadata": {
  "kernelspec": {
   "display_name": "Python 3 (ipykernel)",
   "language": "python",
   "name": "python3"
  },
  "language_info": {
   "codemirror_mode": {
    "name": "ipython",
    "version": 3
   },
   "file_extension": ".py",
   "mimetype": "text/x-python",
   "name": "python",
   "nbconvert_exporter": "python",
   "pygments_lexer": "ipython3",
   "version": "3.9.13"
  },
  "papermill": {
   "default_parameters": {},
   "duration": 15.107607,
   "end_time": "2022-09-03T12:35:25.557740",
   "environment_variables": {},
   "exception": null,
   "input_path": "__notebook__.ipynb",
   "output_path": "__notebook__.ipynb",
   "parameters": {},
   "start_time": "2022-09-03T12:35:10.450133",
   "version": "2.3.4"
  }
 },
 "nbformat": 4,
 "nbformat_minor": 5
}
